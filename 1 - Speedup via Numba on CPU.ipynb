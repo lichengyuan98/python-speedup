{
 "cells": [
  {
   "cell_type": "raw",
   "source": [
    "先从最基本的数学计算代码段的加速开始，实现在cpu和gpu上的无痛加速计算。\n",
    "numba主要能够针对含有大量*循环结构*和*numpy*操作的代码进行加速"
   ],
   "metadata": {
    "collapsed": false,
    "pycharm": {
     "name": "#%% raw\n"
    }
   }
  },
  {
   "cell_type": "code",
   "execution_count": 1,
   "metadata": {
    "pycharm": {
     "name": "#%%\n"
    }
   },
   "outputs": [],
   "source": [
    "import numpy as np"
   ]
  },
  {
   "cell_type": "raw",
   "source": [
    "1. 首先使用求素数的纯python代码"
   ],
   "metadata": {
    "collapsed": false,
    "pycharm": {
     "name": "#%% raw\n"
    }
   }
  },
  {
   "cell_type": "code",
   "execution_count": 2,
   "metadata": {
    "pycharm": {
     "name": "#%%\n"
    }
   },
   "outputs": [],
   "source": [
    "def prime_number_pure_python(end):\n",
    "    prime_numbers = []\n",
    "    for i in range(1, end):\n",
    "        for j in range(2, np.sqrt(i).astype(int) + 1):\n",
    "            if i % j == 0:\n",
    "                break\n",
    "            else:\n",
    "                prime_numbers.append(i)\n",
    "    return prime_numbers"
   ]
  },
  {
   "cell_type": "code",
   "execution_count": 3,
   "outputs": [
    {
     "name": "stdout",
     "output_type": "stream",
     "text": [
      "10.7 s ± 436 ms per loop (mean ± std. dev. of 5 runs, 1 loop each)\n"
     ]
    }
   ],
   "source": [
    "%timeit -n 1 -r 5 prime_number_pure_python(1_000_000)"
   ],
   "metadata": {
    "collapsed": false,
    "pycharm": {
     "name": "#%%\n"
    }
   }
  },
  {
   "cell_type": "raw",
   "source": [
    "2. 使用`numba`进行CPU上的加速，主要体现在以下几个方面\n",
    "    + 使用完全避免python控制台运行的编译方法`@numba.njit`或`@numba.jit(nopython=True)`\n",
    "    + 在数学计算中使用优化计算的属性`fastmath=True`\n",
    "    + 使用避免`GIL`大锁的并行编译属性`parallel=True`和`nogil=True`\n",
    "    + 在运行时**动态**设置运行的最大进程数`numba.set_num_threads(<cores>)`，其中`<cores>`为**逻辑处理器数量**\n",
    "    + 在可以并行的循环中将`range()`更换为`numba.prange()`\n",
    "    + 如果涉及`numpy.linalg`线性代数计算，则环境中需要安装`scipy`"
   ],
   "metadata": {
    "collapsed": false,
    "pycharm": {
     "name": "#%% raw\n"
    }
   }
  },
  {
   "cell_type": "code",
   "execution_count": 18,
   "outputs": [],
   "source": [
    "import numba\n",
    "from numba import prange\n",
    "\n",
    "@numba.jit(nopython=True,\n",
    "           fastmath=True,\n",
    "           parallel=True,\n",
    "           nogil=True)\n",
    "def prime_number_cpu(end):\n",
    "    prime_numbers = np.zeros((end))\n",
    "    for i in prange(1, end):\n",
    "        for j in prange(2, int(np.sqrt(i)) + 1):\n",
    "            if i % j == 0:\n",
    "                break\n",
    "            else:\n",
    "                prime_numbers[i-1] = i\n",
    "    return prime_numbers\n",
    "\n",
    "numba.set_num_threads(16)"
   ],
   "metadata": {
    "collapsed": false,
    "pycharm": {
     "name": "#%%\n"
    }
   }
  },
  {
   "cell_type": "code",
   "execution_count": 20,
   "outputs": [
    {
     "name": "stdout",
     "output_type": "stream",
     "text": [
      "42.9 ms ± 4.48 ms per loop (mean ± std. dev. of 5 runs, 1 loop each)\n"
     ]
    }
   ],
   "source": [
    "%timeit -n 1 -r 5 prime_number_cpu(1_000_000)"
   ],
   "metadata": {
    "collapsed": false,
    "pycharm": {
     "name": "#%%\n"
    }
   }
  }
 ],
 "metadata": {
  "kernelspec": {
   "display_name": "Python 3 (ipykernel)",
   "language": "python",
   "name": "python3"
  },
  "language_info": {
   "codemirror_mode": {
    "name": "ipython",
    "version": 3
   },
   "file_extension": ".py",
   "mimetype": "text/x-python",
   "name": "python",
   "nbconvert_exporter": "python",
   "pygments_lexer": "ipython3",
   "version": "3.7.13"
  }
 },
 "nbformat": 4,
 "nbformat_minor": 1
}